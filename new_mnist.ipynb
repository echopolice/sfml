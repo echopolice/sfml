{
 "cells": [
  {
   "cell_type": "markdown",
   "metadata": {},
   "source": [
    "# Binary classification of images"
   ]
  },
  {
   "cell_type": "markdown",
   "metadata": {},
   "source": [
    "## Problem description:##\n",
    "\n",
    "Our goal is to transform the multi-class classification problem (using famous MNIST dataset) into a binary. For this purpose, we combine 2 original MNIST images (digits, size =28x28) into one, after that each images contains 2 digits (new size = 56x28). So now we want to teach the neural network to find images that contain the number 4 (class=1, other images: class=0). "
   ]
  },
  {
   "cell_type": "code",
   "execution_count": 210,
   "metadata": {},
   "outputs": [],
   "source": [
    "import os\n",
    "import sys\n",
    "import warnings\n",
    "warnings.filterwarnings(\"ignore\")\n",
    "from IPython.display import Image\n",
    "\n",
    "import numpy as np\n",
    "import random\n",
    "from matplotlib import pyplot as plt\n",
    "from PIL import Image, ImageDraw\n",
    "\n",
    "# the following line is not required if Dataset is installed as a python package.\n",
    "sys.path.append(\"../..\")\n",
    "from dataset import Pipeline, B, C, F, V\n",
    "import mnist\n",
    "from dataset.models.tf import ResNet18\n",
    "from dataset import DatasetIndex, Dataset, Batch\n",
    "\n",
    "from dataset import B, V, F, R, P, action, ImagesBatch\n",
    "from dataset.models.tf import TFModel\n",
    "from dataset.models.tf.layers import conv_block\n",
    "from dataset.batch_image import transform_actions\n",
    "\n",
    "from dataset.opensets import MNIST\n",
    "\n",
    "sys.path.append('../utils')\n",
    "import utils\n",
    "\n",
    "plt.style.use('seaborn-poster')\n",
    "plt.style.use('ggplot')"
   ]
  },
  {
   "cell_type": "markdown",
   "metadata": {},
   "source": [
    "---------------------------------------------------------------------------------------------"
   ]
  },
  {
   "cell_type": "markdown",
   "metadata": {},
   "source": [
    "\n",
    "#### Define Batch class which holds data and contains processing functions ####\n",
    "**(in our case we can choose any default class like ImagesBatch)** "
   ]
  },
  {
   "cell_type": "code",
   "execution_count": 211,
   "metadata": {},
   "outputs": [],
   "source": [
    "@transform_actions(prefix='_', suffix='_', wrapper='apply_transform')\n",
    "class MnistBatch(ImagesBatch):\n",
    "    components = 'images', 'labels'\n",
    "\n",
    "    def _shift_flattened_(self, image, max_margin=8):\n",
    "        padded = np.pad(self._to_array_(image),\n",
    "                        pad_width=[[max_margin, max_margin], [max_margin, max_margin], [0, 0]],\n",
    "                        mode='minimum')\n",
    "        left_lower = np.random.randint(2 * max_margin, size=2)\n",
    "        slicing = (slice(left_lower[0], left_lower[0] + 56),\n",
    "                   slice(left_lower[1], left_lower[1] + 28))\n",
    "        return self._to_pil_(padded[slicing])"
   ]
  },
  {
   "cell_type": "markdown",
   "metadata": {},
   "source": [
    "---------------------------------------------------------------------------------------------"
   ]
  },
  {
   "cell_type": "markdown",
   "metadata": {},
   "source": [
    "#### Let's load data and create the dataset using MNIST openset: ####"
   ]
  },
  {
   "cell_type": "code",
   "execution_count": 212,
   "metadata": {},
   "outputs": [
    {
     "name": "stdout",
     "output_type": "stream",
     "text": [
      "Downloading Downloading http://yann.lecun.com/exdb/mnist/train-labels-idx1-ubyte.gz\n",
      "Downloadinghttp://yann.lecun.com/exdb/mnist/train-images-idx3-ubyte.gz\n",
      " http://yann.lecun.com/exdb/mnist/t10k-images-idx3-ubyte.gz\n",
      "Extracting /var/folders/ns/3lqd0mjj7vg1pt0gj5ph0nw80000gn/T/train-labels-idx1-ubyte.gzDownloading\n",
      "Extracting /var/folders/ns/3lqd0mjj7vg1pt0gj5ph0nw80000gn/T/t10k-images-idx3-ubyte.gzExtracting http://yann.lecun.com/exdb/mnist/t10k-labels-idx1-ubyte.gz\n",
      " /var/folders/ns/3lqd0mjj7vg1pt0gj5ph0nw80000gn/T/train-images-idx3-ubyte.gz\n",
      "\n",
      "Extracting /var/folders/ns/3lqd0mjj7vg1pt0gj5ph0nw80000gn/T/t10k-labels-idx1-ubyte.gz\n"
     ]
    }
   ],
   "source": [
    "dataset=MNIST(batch_class=MnistBatch)"
   ]
  },
  {
   "cell_type": "markdown",
   "metadata": {},
   "source": [
    "\n",
    "***Images and their labels are in preloaded.***"
   ]
  },
  {
   "cell_type": "code",
   "execution_count": 213,
   "metadata": {},
   "outputs": [],
   "source": [
    "# odt = original data\n",
    "odt=dataset.train.preloaded"
   ]
  },
  {
   "cell_type": "markdown",
   "metadata": {},
   "source": [
    "***So \"odt[0]\" corresponds to a set of images and \"odt[1]\" corresponds to the list of labels***"
   ]
  },
  {
   "cell_type": "markdown",
   "metadata": {},
   "source": [
    "---------------------------------------------------------------------------------------------"
   ]
  },
  {
   "cell_type": "markdown",
   "metadata": {},
   "source": [
    "#### Sample pictures from the MNIST dataset: ####\n",
    "![MNIST dataset](https://m-alcu.github.io/assets/mnist.png)  "
   ]
  },
  {
   "cell_type": "markdown",
   "metadata": {},
   "source": [
    "---------------------------------------------------------------------------------------------"
   ]
  },
  {
   "cell_type": "markdown",
   "metadata": {},
   "source": [
    "#### Create two lists - \"four\" and \"others\". #### \n",
    "**List \"four\" contains the indices of images of figure 4, list \"others\" - all the remaining indices**"
   ]
  },
  {
   "cell_type": "code",
   "execution_count": 215,
   "metadata": {},
   "outputs": [],
   "source": [
    "four=[]\n",
    "others=[]\n",
    "for i in range(0, len(odt[1])):\n",
    "    if odt[1][i]==4:\n",
    "        four.append(i)\n",
    "    else:\n",
    "        others.append(i)\n",
    "random.shuffle(others)"
   ]
  },
  {
   "cell_type": "markdown",
   "metadata": {},
   "source": [
    "#### Create new images array (train_4), which contain images with number 4#####\n",
    "**Also create labels array y_4 (all elements have class=1)**"
   ]
  },
  {
   "cell_type": "code",
   "execution_count": 216,
   "metadata": {},
   "outputs": [],
   "source": [
    "# new_image_size 56 x 28\n",
    "train_4 = odt[0][four[0]]\n",
    "train_4 = np.append(train_4, odt[0][others[0]],axis=0)\n",
    "zipped = zip(four, others[0:len(four)])\n",
    "for i,j in zipped:\n",
    "    if i != four[0]:\n",
    "        train_4 = np.append(train_4, odt[0][i], axis=0)\n",
    "        train_4 = np.append(train_4, odt[0][j], axis=0)\n",
    "train_4 = train_4.reshape((len(four),56,28))\n",
    "y_4 = np.ones((len(four)))"
   ]
  },
  {
   "cell_type": "markdown",
   "metadata": {},
   "source": [
    "#### Create new images array (train_others), which contain images with other numbers#####\n",
    "**Also create labels array y_others (all elements have class=0)**"
   ]
  },
  {
   "cell_type": "code",
   "execution_count": 217,
   "metadata": {},
   "outputs": [],
   "source": [
    "train_others = odt[0][others[len(four)]]\n",
    "for i in others[len(four):len(four)*3]:\n",
    "    if i != others[len(four)]:\n",
    "        train_others = np.append(train_others, odt[0][i], axis=0)\n",
    "train_others = train_others.reshape((len(four),56,28))\n",
    "y_others = np.zeros((len(four)))"
   ]
  },
  {
   "cell_type": "markdown",
   "metadata": {},
   "source": [
    "#### Now let's combine the received arrays into one array ####"
   ]
  },
  {
   "cell_type": "code",
   "execution_count": 219,
   "metadata": {},
   "outputs": [],
   "source": [
    "train_images_new = np.concatenate((train_4, train_others), axis=0)\n",
    "train_labels_new = np.concatenate((y_4, y_others),axis=0)"
   ]
  },
  {
   "cell_type": "markdown",
   "metadata": {},
   "source": [
    "#### Sample pictures after transformations ####"
   ]
  },
  {
   "cell_type": "code",
   "execution_count": 220,
   "metadata": {},
   "outputs": [
    {
     "data": {
      "image/png": "[encoded data removed]",
      "text/plain": [
       "<PIL.Image.Image image mode=L size=800x200 at 0x1390D4320>"
      ]
     },
     "execution_count": 220,
     "metadata": {},
     "output_type": "execute_result"
    }
   ],
   "source": [
    "class_1 = Image.new('L', (800,200))\n",
    "\n",
    "for i in range(0,4):\n",
    "    class_1.paste(Image.fromarray(train_4[i]).resize([200,200]), (0+200*i,0))\n",
    "class_1"
   ]
  },
  {
   "cell_type": "code",
   "execution_count": 221,
   "metadata": {},
   "outputs": [
    {
     "data": {
      "image/png": "[encoded data removed]",
      "text/plain": [
       "<PIL.Image.Image image mode=L size=800x200 at 0x1546066A0>"
      ]
     },
     "execution_count": 221,
     "metadata": {},
     "output_type": "execute_result"
    }
   ],
   "source": [
    "class_0 = Image.new('L', (800,200))\n",
    "\n",
    "for i in range(0,4):\n",
    "    class_0.paste(Image.fromarray(train_others[i]).resize([200,200]), (0+200*i,0))\n",
    "class_0"
   ]
  },
  {
   "cell_type": "markdown",
   "metadata": {},
   "source": [
    "#### Now we prepare to create a new dataset ####"
   ]
  },
  {
   "cell_type": "code",
   "execution_count": 222,
   "metadata": {},
   "outputs": [],
   "source": [
    "new_MNIST_data = train_images_new, train_labels_new"
   ]
  },
  {
   "cell_type": "code",
   "execution_count": 120,
   "metadata": {},
   "outputs": [],
   "source": [
    "new_MNIST_index = list(range(train_labels_new.shape[0]))\n",
    "new_MNIST_dataset = Dataset(new_MNIST_index, batch_class=MnistBatch, preloaded=new_MNIST_data)\n",
    "new_MNIST_dataset.cv_split([.8, .1, .1], shuffle=True)"
   ]
  },
  {
   "cell_type": "markdown",
   "metadata": {},
   "source": [
    "#### For example, let's use config for ResNet18 model from dataset.models.tf ####"
   ]
  },
  {
   "cell_type": "code",
   "execution_count": 223,
   "metadata": {},
   "outputs": [],
   "source": [
    "config = dict(model=ResNet18) "
   ]
  },
  {
   "cell_type": "markdown",
   "metadata": {},
   "source": [
    "#### When config is defined, next step is to create a pipeline. ####\n",
    "\n",
    "\n",
    "*Also we add to default pipeline rotation transform. Now each image rotate with probability 0.5 by angle = 180 degree.*\n",
    "\n",
    "*As a result, the position of figure 4 will not be the same [before this (as you can see in sample pictures) all figures 4 were at the top]*\n",
    "\n",
    "*Due to this trasformation we have complicated the learning process, adding variance in data*"
   ]
  },
  {
   "cell_type": "code",
   "execution_count": 224,
   "metadata": {},
   "outputs": [],
   "source": [
    "train_template = (Pipeline(config=config)\n",
    "                .init_variable('loss_history', init_on_each_run=list)\n",
    "                .init_variable('current_loss', init_on_each_run=0)\n",
    "                .shift_flattened()\n",
    "                .init_model('dynamic', C('model'), 'conv_nn',\n",
    "                            config={'inputs': dict(images={'shape': B('image_shape')},\n",
    "                                                   labels={'classes': 2, 'transform': 'ohe', 'name': 'targets'}),\n",
    "                                    'input_block/inputs': 'images',\n",
    "                                    'output': dict(ops=['accuracy'])})\n",
    "                .rotate(angle=180, p=0.3)  \n",
    "                .to_array()\n",
    "                .train_model('conv_nn', fetches='loss',\n",
    "                                     feed_dict={'images': B('images'),\n",
    "                                                'labels': B('labels')},\n",
    "                             save_to=V('current_loss'))\n",
    "                .update_variable('loss_history', V('current_loss'), mode='a')\n",
    ")"
   ]
  },
  {
   "cell_type": "markdown",
   "metadata": {},
   "source": [
    "#### Train the model ####\n",
    "**Apply a dataset to a template pipeline to create a runnable pipeline:**"
   ]
  },
  {
   "cell_type": "code",
   "execution_count": 225,
   "metadata": {},
   "outputs": [],
   "source": [
    "train_pipeline = (train_template << new_MNIST_dataset.train)"
   ]
  },
  {
   "cell_type": "markdown",
   "metadata": {},
   "source": [
    "** Run the pipeline:**"
   ]
  },
  {
   "cell_type": "code",
   "execution_count": 226,
   "metadata": {},
   "outputs": [
    {
     "name": "stderr",
     "output_type": "stream",
     "text": [
      "100%|██████████| 292/292 [06:33<00:00,  1.22s/it]\n"
     ]
    },
    {
     "data": {
      "text/plain": [
       "<dataset.pipeline.Pipeline at 0x155c8bc88>"
      ]
     },
     "execution_count": 226,
     "metadata": {},
     "output_type": "execute_result"
    }
   ],
   "source": [
    "BATCH_SIZE = 32\n",
    "train_pipeline.run(BATCH_SIZE, shuffle=True, n_epochs=1, drop_last=True, bar=True)"
   ]
  },
  {
   "cell_type": "markdown",
   "metadata": {},
   "source": [
    "#### Test the model ####"
   ]
  },
  {
   "cell_type": "code",
   "execution_count": 228,
   "metadata": {},
   "outputs": [
    {
     "name": "stderr",
     "output_type": "stream",
     "text": [
      "\n",
      "  0%|          | 0/36 [00:00<?, ?it/s]\u001b[A\n",
      "  6%|▌         | 2/36 [00:00<00:07,  4.79it/s]\u001b[A\n",
      "  8%|▊         | 3/36 [00:00<00:06,  5.19it/s]\u001b[A\n",
      " 11%|█         | 4/36 [00:00<00:05,  5.43it/s]\u001b[A\n",
      " 14%|█▍        | 5/36 [00:00<00:05,  5.67it/s]\u001b[A\n",
      " 17%|█▋        | 6/36 [00:01<00:05,  5.89it/s]\u001b[A\n",
      " 19%|█▉        | 7/36 [00:01<00:05,  5.50it/s]\u001b[A\n",
      " 22%|██▏       | 8/36 [00:01<00:05,  5.38it/s]\u001b[A\n",
      " 25%|██▌       | 9/36 [00:01<00:04,  5.43it/s]\u001b[A\n",
      " 28%|██▊       | 10/36 [00:01<00:04,  5.40it/s]\u001b[A\n",
      " 31%|███       | 11/36 [00:01<00:04,  5.53it/s]\u001b[A\n",
      " 33%|███▎      | 12/36 [00:02<00:04,  5.81it/s]\u001b[A\n",
      " 36%|███▌      | 13/36 [00:02<00:03,  5.94it/s]\u001b[A\n",
      " 39%|███▉      | 14/36 [00:02<00:03,  5.68it/s]\u001b[A\n",
      " 42%|████▏     | 15/36 [00:02<00:03,  5.77it/s]\u001b[A\n",
      " 44%|████▍     | 16/36 [00:02<00:03,  5.56it/s]\u001b[A\n",
      " 47%|████▋     | 17/36 [00:03<00:03,  5.33it/s]\u001b[A\n",
      " 50%|█████     | 18/36 [00:03<00:03,  5.30it/s]\u001b[A\n",
      " 53%|█████▎    | 19/36 [00:03<00:03,  5.66it/s]\u001b[A\n",
      " 56%|█████▌    | 20/36 [00:03<00:02,  5.94it/s]\u001b[A\n",
      " 58%|█████▊    | 21/36 [00:03<00:02,  6.16it/s]\u001b[A\n",
      " 61%|██████    | 22/36 [00:03<00:02,  5.95it/s]\u001b[A\n",
      " 64%|██████▍   | 23/36 [00:04<00:02,  6.05it/s]\u001b[A\n",
      " 67%|██████▋   | 24/36 [00:04<00:01,  6.19it/s]\u001b[A\n",
      " 69%|██████▉   | 25/36 [00:04<00:01,  6.35it/s]\u001b[A\n",
      " 72%|███████▏  | 26/36 [00:04<00:01,  6.46it/s]\u001b[A\n",
      " 75%|███████▌  | 27/36 [00:04<00:01,  6.47it/s]\u001b[A\n",
      " 78%|███████▊  | 28/36 [00:04<00:01,  6.32it/s]\u001b[A\n",
      " 81%|████████  | 29/36 [00:05<00:01,  5.75it/s]\u001b[A\n",
      " 83%|████████▎ | 30/36 [00:05<00:01,  5.64it/s]\u001b[A\n",
      " 86%|████████▌ | 31/36 [00:05<00:00,  5.53it/s]\u001b[A\n",
      " 89%|████████▉ | 32/36 [00:05<00:00,  5.54it/s]\u001b[A\n",
      " 92%|█████████▏| 33/36 [00:05<00:00,  5.83it/s]\u001b[A\n",
      " 94%|█████████▍| 34/36 [00:05<00:00,  6.00it/s]\u001b[A\n",
      " 97%|█████████▋| 35/36 [00:06<00:00,  6.10it/s]\u001b[A\n",
      "100%|██████████| 36/36 [00:06<00:00,  5.63it/s]\u001b[A\n",
      "\u001b[A"
     ]
    }
   ],
   "source": [
    "test_pipeline = (new_MNIST_dataset.validation.p\n",
    "                .import_model('conv_nn', train_pipeline)\n",
    "                .init_variable('accuracy', init_on_each_run=list)\n",
    "                .to_array()\n",
    "                .init_variable('answers', init_on_each_run=list)\n",
    "                .init_variable('img', init_on_each_run=list)\n",
    "                .init_variable('predict', init_on_each_run=list)\n",
    "                .predict_model('conv_nn', fetches=['output_accuracy','labels', 'images', 'output_labels'], \n",
    "                               feed_dict={'images': B('images'), 'labels': B('labels')},\n",
    "                               save_to=[V('accuracy'),V('answers'),V('img'),V('predict')], mode='a')\n",
    "                .run(BATCH_SIZE, shuffle=True, n_epochs=1, drop_last=True, bar=True)\n",
    ")"
   ]
  },
  {
   "cell_type": "markdown",
   "metadata": {},
   "source": [
    "#### Lest's find accuracy on test data ####"
   ]
  },
  {
   "cell_type": "code",
   "execution_count": 255,
   "metadata": {},
   "outputs": [
    {
     "name": "stdout",
     "output_type": "stream",
     "text": [
      "Accuracy   0.98\n"
     ]
    }
   ],
   "source": [
    "accuracy = np.array(test_pipeline.get_variable('accuracy')).mean()\n",
    "#answers = np.array(test_pipeline.get_variable('answers'))\n",
    "print('Accuracy {:6.2f}'.format(accuracy))"
   ]
  },
  {
   "cell_type": "markdown",
   "metadata": {},
   "source": [
    "#### Finally, draw images with corresponding algorithm predictions ####"
   ]
  },
  {
   "cell_type": "code",
   "execution_count": 256,
   "metadata": {},
   "outputs": [
    {
     "data": {
      "image/png": "[encoded data removed]",
      "text/plain": [
       "<matplotlib.figure.Figure at 0x1743f78d0>"
      ]
     },
     "metadata": {},
     "output_type": "display_data"
    }
   ],
   "source": [
    "_, ax = plt.subplots(4, 4, figsize=(16, 16))\n",
    "ax = ax.reshape(-1)\n",
    "\n",
    "\n",
    "for num_batch in range(16):\n",
    "    test_pipeline.next_batch(1, n_epochs=None, shuffle=True)\n",
    "    answer= test_pipeline.get_variable('answers')\n",
    "    img = test_pipeline.get_variable('img')\n",
    "    predict = test_pipeline.get_variable('predict')\n",
    "    ax[num_batch].imshow(img[-1].reshape(56, 28))\n",
    "    ax[num_batch].set_xlabel('Predict {}' \n",
    "                             .format(predict[-1][0]),fontsize=18)\n",
    "    ax[num_batch].grid()\n",
    "plt.tight_layout(pad=0.8, w_pad=0.2, h_pad=1.0)\n",
    "plt.show()"
   ]
  },
  {
   "cell_type": "code",
   "execution_count": null,
   "metadata": {},
   "outputs": [],
   "source": []
  }
 ],
 "metadata": {
  "kernelspec": {
   "display_name": "Python 3",
   "language": "python",
   "name": "python3"
  },
  "language_info": {
   "codemirror_mode": {
    "name": "ipython",
    "version": 3
   },
   "file_extension": ".py",
   "mimetype": "text/x-python",
   "name": "python",
   "nbconvert_exporter": "python",
   "pygments_lexer": "ipython3",
   "version": "3.6.4"
  }
 },
 "nbformat": 4,
 "nbformat_minor": 2
}
