{
  "nbformat": 4,
  "nbformat_minor": 0,
  "metadata": {
    "colab": {
      "name": "Untitled0.ipynb",
      "version": "0.3.2",
      "views": {},
      "default_view": {},
      "provenance": []
    },
    "kernelspec": {
      "name": "python3",
      "display_name": "Python 3"
    }
  },
  "cells": [
    {
      "metadata": {
        "id": "Pclj7Vc8NbZz",
        "colab_type": "text"
      },
      "cell_type": "markdown",
      "source": [
        "Поиск минимального значения **log_loss** (и номера соответствующей итерации) для датасета  «Predicting a Biological Response»"
      ]
    },
    {
      "metadata": {
        "id": "iwr4DhXZNgK3",
        "colab_type": "code",
        "colab": {
          "autoexec": {
            "startup": false,
            "wait_interval": 0
          }
        }
      },
      "cell_type": "code",
      "source": [
        "import pandas as pd\n",
        "import matplotlib.pyplot as plt\n",
        "from sklearn.ensemble import GradientBoostingClassifier\n",
        "from sklearn.cross_validation import train_test_split\n",
        "from sklearn.metrics import log_loss"
      ],
      "execution_count": 0,
      "outputs": []
    },
    {
      "metadata": {
        "id": "C78zwfu1Je-m",
        "colab_type": "text"
      },
      "cell_type": "markdown",
      "source": [
        "Загружаем данные из файла gbm-data.csv,  оставляем фичи, которые\n",
        "содержат различные характеристики молекулы.\n",
        "Также разбиваем выборку на обучающую и тестовую. "
      ]
    },
    {
      "metadata": {
        "id": "z0RadzOGHfH3",
        "colab_type": "code",
        "colab": {
          "autoexec": {
            "startup": false,
            "wait_interval": 0
          }
        }
      },
      "cell_type": "code",
      "source": [
        "df = pd.read_csv('gbm-data.csv')\n",
        "y = df['Activity'].values\n",
        "X = df.loc[:, 'D1':'D1776'].values\n",
        "\n",
        "X_train, X_test, y_train, y_test = train_test_split(X, y, test_size=0.8, random_state=241)"
      ],
      "execution_count": 0,
      "outputs": []
    },
    {
      "metadata": {
        "id": "4QjuLfbxKtmM",
        "colab_type": "text"
      },
      "cell_type": "markdown",
      "source": [
        "Опредялем сигмоидную функцию (для получения вероятностей)\n",
        "\n"
      ]
    },
    {
      "metadata": {
        "id": "YQ9GgoOVHn9p",
        "colab_type": "code",
        "colab": {
          "autoexec": {
            "startup": false,
            "wait_interval": 0
          }
        }
      },
      "cell_type": "code",
      "source": [
        "def sigmoid(y_pred):\n",
        "    return 1.0 / (1.0 + math.exp(-y_pred))"
      ],
      "execution_count": 0,
      "outputs": []
    },
    {
      "metadata": {
        "id": "jhG3C3XVK5tk",
        "colab_type": "text"
      },
      "cell_type": "markdown",
      "source": [
        "Определяем функцию **log-loss**. Для этого используем метод **staged_decision_function** для предсказания качества на обучающей и тестовой выборкена каждой итерации."
      ]
    },
    {
      "metadata": {
        "id": "ircrWEfXIGby",
        "colab_type": "code",
        "colab": {
          "autoexec": {
            "startup": false,
            "wait_interval": 0
          }
        }
      },
      "cell_type": "code",
      "source": [
        "def log_loss(model, X, y):\n",
        "    results = []\n",
        "    for pred in model.staged_decision_function(X):\n",
        "        results.append(log_loss(y, [sigmoid(y_pred) for y_pred in pred]))\n",
        "    return results"
      ],
      "execution_count": 0,
      "outputs": []
    },
    {
      "metadata": {
        "id": "D_dCmxy9LcS3",
        "colab_type": "text"
      },
      "cell_type": "markdown",
      "source": [
        "Определяем функцию для построения график значений **log-loss** на обучающей и тестовой выборках. Также добавим поиск минимального значения метрики и номера итерации, на которой оно достигается."
      ]
    },
    {
      "metadata": {
        "id": "1CHRLcohIQXC",
        "colab_type": "code",
        "colab": {
          "autoexec": {
            "startup": false,
            "wait_interval": 0
          }
        }
      },
      "cell_type": "code",
      "source": [
        "def plot_loss(learning_rate, test_loss, train_loss):\n",
        "    plt.figure()\n",
        "    plt.plot(test_loss, 'r')\n",
        "    plt.plot(train_loss, 'g')\n",
        "    plt.legend(['test', 'train'])\n",
        "\n",
        "    min_loss_value = min(test_loss)\n",
        "    min_loss_index = test_loss.index(min_loss_value)\n",
        "    return min_loss_value, min_loss_index"
      ],
      "execution_count": 0,
      "outputs": []
    },
    {
      "metadata": {
        "id": "QwvUdfeFMfuG",
        "colab_type": "text"
      },
      "cell_type": "markdown",
      "source": [
        "Построим модель на основе **GradientBoostingClassifier** для каждого значения **learning_rate** из списка [1, 0.5, 0.3, 0.2, 0.1]"
      ]
    },
    {
      "metadata": {
        "id": "pdTwwEPdIrX6",
        "colab_type": "code",
        "colab": {
          "autoexec": {
            "startup": false,
            "wait_interval": 0
          }
        }
      },
      "cell_type": "code",
      "source": [
        "def model_test(learning_rate):\n",
        "    model = GradientBoostingClassifier(learning_rate=learning_rate, n_estimators=250, random_state=241)\n",
        "    model.fit(X_train, y_train)\n",
        "\n",
        "    train_loss = log_loss_results(model, X_train, y_train)\n",
        "    test_loss = log_loss_results(model, X_test, y_test)\n",
        "    return plot_loss(learning_rate, test_loss, train_loss)"
      ],
      "execution_count": 0,
      "outputs": []
    },
    {
      "metadata": {
        "id": "AN41i7EzI5yz",
        "colab_type": "code",
        "colab": {
          "autoexec": {
            "startup": false,
            "wait_interval": 0
          }
        }
      },
      "cell_type": "code",
      "source": [
        "min_loss_results = {}\n",
        "for learning_rate in [1, 0.5, 0.3, 0.2, 0.1]:\n",
        "    min_loss_results[learning_rate] = model_test(learning_rate)"
      ],
      "execution_count": 0,
      "outputs": []
    }
  ]
}