{
 "cells": [
  {
   "cell_type": "code",
   "execution_count": 151,
   "metadata": {},
   "outputs": [],
   "source": [
    "import sys\n",
    "import warnings\n",
    "warnings.filterwarnings(\"ignore\")\n",
    "\n",
    "import numpy as np\n",
    "import PIL\n",
    "from PIL import Image, ImageDraw\n",
    "\n",
    "import random\n",
    "from matplotlib import pyplot as plt\n",
    "from tqdm import tqdm_notebook as tqn\n",
    "%matplotlib inline\n",
    "\n",
    "from dataset import B, V, F, R, P, action, ImagesBatch\n",
    "from dataset.models.tf import TFModel\n",
    "from dataset.models.tf.layers import conv_block\n",
    "from dataset.batch_image import transform_actions\n",
    "import mnist\n",
    "\n",
    "from dataset import DatasetIndex, Dataset, Batch"
   ]
  },
  {
   "cell_type": "code",
   "execution_count": null,
   "metadata": {},
   "outputs": [],
   "source": [
    "train_images = mnist.train_images()\n",
    "train_labels = mnist.train_labels()\n",
    "\n",
    "test_images = mnist.test_images()\n",
    "test_labels = mnist.test_labels()"
   ]
  },
  {
   "cell_type": "code",
   "execution_count": null,
   "metadata": {},
   "outputs": [],
   "source": [
    "# 2 classes: four and others\n",
    "\n",
    "four=[]\n",
    "others=[]\n",
    "for i in range(0, len(train_labels)):\n",
    "    if train_labels[i]==4:\n",
    "        four.append(i)\n",
    "    else:\n",
    "        others.append(i)\n",
    "random.shuffle(others)"
   ]
  },
  {
   "cell_type": "code",
   "execution_count": 147,
   "metadata": {},
   "outputs": [],
   "source": [
    "# new_mage_size 56 x 28\n",
    "train_4 = train_images[four[0]]\n",
    "train_4 = np.append(train_4, train_images[others[0]],axis=0)\n",
    "zipped = zip(four, others[0:len(four)])\n",
    "for i,j in zipped:\n",
    "    if i != four[0]:\n",
    "        train_4 = np.append(train_4, train_images[i], axis=0)\n",
    "        train_4 = np.append(train_4, train_images[j], axis=0)\n",
    "train_4 = train_4.reshape((len(four),56,28))\n",
    "y_4 = np.ones((len(four)))"
   ]
  },
  {
   "cell_type": "code",
   "execution_count": 148,
   "metadata": {},
   "outputs": [],
   "source": [
    "train_others = train_images[others[len(four)]]\n",
    "for i in others[len(four):len(four)*3]:\n",
    "    if i != others[len(four)]:\n",
    "        train_others = np.append(train_others, train_images[i], axis=0)\n",
    "train_others = train_others.reshape((len(four),56,28))\n",
    "y_others = np.zeros((len(four)))"
   ]
  },
  {
   "cell_type": "code",
   "execution_count": null,
   "metadata": {},
   "outputs": [],
   "source": [
    "train_images_new = np.concatenate((train_4, train_others), axis=0)\n",
    "train_labels_new = np.concatenate((y_4, y_others),axis=0)"
   ]
  },
  {
   "cell_type": "code",
   "execution_count": null,
   "metadata": {},
   "outputs": [],
   "source": [
    "class MyBatch(Batch):\n",
    "    components = 'images', 'labels'"
   ]
  },
  {
   "cell_type": "code",
   "execution_count": null,
   "metadata": {},
   "outputs": [],
   "source": [
    "client_index = list(range(train_labels_new.shape[0]))\n",
    "client_dataset = Dataset(client_index, batch_class=MyBatch, preloaded=(train_images_new, train_labels_new))\n",
    "client_dataset.cv_split([.8, .1, .1])"
   ]
  },
  {
   "cell_type": "code",
   "execution_count": null,
   "metadata": {},
   "outputs": [],
   "source": [
    "class MyModel(TFModel):\n",
    "    @classmethod\n",
    "    def default_config(cls):\n",
    "        config = TFModel.default_config()\n",
    "        config['body'].update(dict(filters=[2], kernel_size=3, layout='cna'))\n",
    "        config['head'].update(dict(units=2, layout='df', dropout_rate=.2))\n",
    "        return config\n",
    "\n",
    "    def build_config(self, names=None):\n",
    "        config = super().build_config(names)\n",
    "        config['head']['units'] = self.num_classes('targets')\n",
    "        config['head']['filters'] = self.num_classes('targets')\n",
    "        return config\n",
    "\n",
    "    @classmethod\n",
    "    def body(cls, inputs, name='body', **kwargs):\n",
    "        kwargs = cls.fill_params('body', **kwargs)\n",
    "        x = conv_block(inputs, **kwargs)\n",
    "        return x"
   ]
  },
  {
   "cell_type": "code",
   "execution_count": null,
   "metadata": {},
   "outputs": [],
   "source": [
    "inputs_config = {\n",
    "    'images': {'shape': [56, 28]},\n",
    "    'labels': {'shape': 1, 'name': 'targets'}\n",
    "}"
   ]
  },
  {
   "cell_type": "code",
   "execution_count": null,
   "metadata": {},
   "outputs": [],
   "source": [
    "config = {\n",
    "    'inputs': dict(images={'shape': B('image_shape')},\n",
    "                                                   labels={'classes': 2, 'transform': 'ohe', 'name': 'targets'}),\n",
    "    'loss': 'mse',\n",
    "    'optimizer': {'name':'GradientDescentOptimizer', 'learning_rate': 0.01},\n",
    "    'body/units': 1,\n",
    "}"
   ]
  },
  {
   "cell_type": "code",
   "execution_count": null,
   "metadata": {},
   "outputs": [],
   "source": [
    "train_pipeline = ( \n",
    "    client_dataset.train.p\n",
    "    .init_variable('loss_history', init_on_each_run=list)\n",
    "    .init_model('dynamic', MyModel, 'my_model', config=config)\n",
    "    .train_model('my_model', fetches='loss',\n",
    "                 feed_dict={'images':B('images'),\n",
    "                            'labels': B('labels')},save_to=V('loss_history'), mode='a')\n",
    ")"
   ]
  },
  {
   "cell_type": "code",
   "execution_count": null,
   "metadata": {},
   "outputs": [],
   "source": [
    "BATCH_SIZE = 64\n",
    "train_pipeline.run(BATCH_SIZE, shuffle=True, n_epochs=1, drop_last=True, bar=True, prefetch=1)"
   ]
  },
  {
   "cell_type": "code",
   "execution_count": null,
   "metadata": {},
   "outputs": [],
   "source": []
  }
 ],
 "metadata": {
  "kernelspec": {
   "display_name": "Python 3",
   "language": "python",
   "name": "python3"
  },
  "language_info": {
   "codemirror_mode": {
    "name": "ipython",
    "version": 3
   },
   "file_extension": ".py",
   "mimetype": "text/x-python",
   "name": "python",
   "nbconvert_exporter": "python",
   "pygments_lexer": "ipython3",
   "version": "3.6.4"
  }
 },
 "nbformat": 4,
 "nbformat_minor": 2
}
